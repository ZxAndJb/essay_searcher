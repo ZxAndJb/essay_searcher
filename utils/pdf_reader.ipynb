{
 "cells": [
  {
   "cell_type": "code",
   "outputs": [],
   "source": [
    "import re\n",
    "def filter_content(text):\n",
    "    # 过滤掉以 '![]' 开头的行\n",
    "    # ^ 表示行开头，\\Q 和 \\E 用来转义 '[]' 中的特殊字符\n",
    "    text = re.sub(r'\\n\\n!\\[\\][^\\n]*', '', text)\n",
    "\n",
    "    # 过滤掉被 <html> 标签包裹的内容\n",
    "    # 匹配从 <html> 到 </html> 的所有内容，包括多行内容\n",
    "    text = re.sub(r'<html>[\\s\\S]*?</html>', '', text)\n",
    "    return text.strip()\n",
    "\n",
    "def load_md(file_path, is_omit_ref_apx=True):\n",
    "    with open(file_path, 'r', encoding='utf-8') as file:\n",
    "        content = file.read()\n",
    "    sections = re.split(r'\\n(?=#+ )', content)\n",
    "    meta_information = {}\n",
    "    title2content = {}\n",
    "    for idx, sec in enumerate(sections):\n",
    "\n",
    "        position = sec.find('\\n\\n')\n",
    "        if position != -1:\n",
    "            header = sec[:position]\n",
    "        else:\n",
    "            match = re.search(r'^(#{1,6})[\\s\\S]*?(?=\\n)', sec, re.MULTILINE)\n",
    "            header = match.group()\n",
    "\n",
    "        if idx == 0:\n",
    "            meta_information['title'] = header\n",
    "        else:\n",
    "            filtered_content = filter_content(sec[position:].strip())\n",
    "            if len(filtered_content) != 0:\n",
    "                title2content[header] = filtered_content\n",
    "\n",
    "        if is_omit_ref_apx:\n",
    "            if 'conclusion' in header.lower():\n",
    "                break\n",
    "    return {\"meta_information\": meta_information, \"content\": title2content}"
   ],
   "metadata": {
    "collapsed": false,
    "ExecuteTime": {
     "end_time": "2025-03-05T14:12:04.288406900Z",
     "start_time": "2025-03-05T14:12:04.282499800Z"
    }
   },
   "id": "53fa6682210738a2",
   "execution_count": 1
  },
  {
   "cell_type": "code",
   "outputs": [],
   "source": [
    "import glob\n",
    "\n",
    "md_folder_path = \"/mnt/d/PycharmCode/LLMscratch/essay_searcher/raw_data/mds\"\n",
    "md_files = glob.glob(f'{md_folder_path}/*.md')\n",
    "data_list = []\n",
    "for f in md_files:\n",
    "    data_list.append(load_md(f))\n"
   ],
   "metadata": {
    "collapsed": false,
    "ExecuteTime": {
     "end_time": "2025-03-05T14:12:05.048920700Z",
     "start_time": "2025-03-05T14:12:05.024714100Z"
    }
   },
   "id": "9105805484e6bc26",
   "execution_count": 2
  },
  {
   "cell_type": "code",
   "outputs": [],
   "source": [
    "from pymilvus import MilvusClient,Collection\n",
    "import numpy as np\n",
    "from typing import List, Optional, TypedDict\n",
    "from pymilvus.model.hybrid import BGEM3EmbeddingFunction\n",
    "from pymilvus import FieldSchema, CollectionSchema,DataType\n",
    "\n",
    "class chunk(TypedDict):\n",
    "    paper_name: str\n",
    "    section: str\n",
    "    content: str\n",
    "    embedding: List[float]\n",
    "\n",
    "class essay_database:\n",
    "    def __init__(self, uri, db_names, model_path):\n",
    "        self.client = MilvusClient(uri=uri, db_names=db_names)\n",
    "        self.embedding_model = BGEM3EmbeddingFunction(\n",
    "            model_name=model_path,  # Specify the model name\n",
    "            device='cuda:0',  # Specify the device to use, e.g., 'cpu' or 'cuda:0'\n",
    "            use_fp16=True  # Specify whether to use fp16. Set to `False` if `device` is `cpu`.\n",
    "        )\n",
    "        self.chunk_size = 512\n",
    "\n",
    "    def add_batch(self, datalist, collection_name):\n",
    "        chunk_list = []\n",
    "        content_queue = []\n",
    "        for data in datalist:\n",
    "            paper_name = data['meta_information']['title']\n",
    "            for t, c in data['content'].items():\n",
    "                truncated_content = self.truncate_chunk(c)\n",
    "                content_queue.append(truncated_content)\n",
    "                chunk_list.append({\n",
    "                    \"paper_name\": paper_name,\n",
    "                    \"section\": t,\n",
    "                    \"content\": truncated_content\n",
    "                })\n",
    "        docs_embeddings = self.embedding_model.encode_documents(content_queue)['dense']\n",
    "        for emb, chun in zip(docs_embeddings, chunk_list):\n",
    "            chun['embedding'] = emb.astype(np.float32)\n",
    "\n",
    "        self.client.insert(\n",
    "            collection_name=collection_name,\n",
    "            data=chunk_list,\n",
    "        )\n",
    "\n",
    "    def truncate_chunk(self, chunk_content):\n",
    "        split_content = chunk_content.split(\" \")\n",
    "        chunk_length = len(split_content)\n",
    "        if chunk_length <= self.chunk_size:\n",
    "            return chunk_content\n",
    "        truncated_content = split_content.copy()\n",
    "        while chunk_length > 512:\n",
    "            last_newline_index = chunk_content.rfind('\\n')\n",
    "\n",
    "            # 如果找不到换行符或者字符串已经不能再被有效截断，则直接截断到512\n",
    "            if last_newline_index <= 0 or last_newline_index >= 512:\n",
    "                return \" \".join(split_content[:512])\n",
    "\n",
    "            truncated_content = truncated_content[:last_newline_index]\n",
    "\n",
    "        return truncated_content\n",
    "\n",
    "    def search(self, query, collection_name, max_results=5):\n",
    "        if database.client.get_load_state(collection_name=\"pdf_chunks\")['state'] != 3:\n",
    "            self.load_collection(collection_name)\n",
    "        query_vector = self.embedding_model.encode_queries([query])['dense']\n",
    "        query_vector = [arr.astype(np.float32) for arr in query_vector]\n",
    "        res = self.client.search(\n",
    "            collection_name=collection_name,\n",
    "            anns_field=\"embedding\",\n",
    "            data=query_vector,\n",
    "            limit=max_results,\n",
    "            search_params={\"metric_type\": \"IP\"},\n",
    "            output_fields=['paper_name', 'section','content']\n",
    "        )\n",
    "\n",
    "        return res\n",
    "    def load_collection(self, collection_name):\n",
    "        self.client.load_collection(collection_name=collection_name, replica_number=1)\n",
    "\n",
    "    def delete(self):\n",
    "        pass\n",
    "\n",
    "    def create_collection(self, field_dict: dict, collection_name: str, description: Optional[str], dimension=1024):\n",
    "        if self.client.has_collection(collection_name=collection_name):\n",
    "            print(f\"The collection {collection_name} has been existed\")\n",
    "            return\n",
    "        fields_schema = [FieldSchema(name='id', dtype=DataType.INT64, is_primary=True, auto_id=True)]\n",
    "        for k, v in field_dict.items():\n",
    "            if v == 'DataType.FLOAT_VECTOR':\n",
    "                field = FieldSchema(name=k, dtype=DataType.FLOAT_VECTOR, dim=dimension)\n",
    "            elif v == 'DataType.INT64':\n",
    "                field = FieldSchema(name=k, dtype=DataType.INT64)\n",
    "            elif v == 'STRING':\n",
    "                field = FieldSchema(name=k, dtype=DataType.VARCHAR, max_length=10240)\n",
    "            else:\n",
    "                continue\n",
    "            fields_schema.append(field)\n",
    "\n",
    "        schema = CollectionSchema(fields=fields_schema)\n",
    "        self.client.create_collection(\n",
    "            collection_name=collection_name,\n",
    "            schema=schema,  # 使用刚才创建的schema\n",
    "            dimension=dimension,  # The vectors we will use in this demo has 768 dimensions,\n",
    "        \n",
    "            descrption=description\n",
    "        )\n",
    "        collection = Collection(name=collection_name,using=self.client._using)\n",
    "\n",
    "        index_params = {\n",
    "            \"index_type\": \"FLAT\",\n",
    "            \"metric_type\": \"IP\",\n",
    "        }\n",
    "        collection.create_index(field_name=\"embedding\", index_params=index_params)"
   ],
   "metadata": {
    "collapsed": false,
    "ExecuteTime": {
     "end_time": "2025-03-06T05:51:35.441912300Z",
     "start_time": "2025-03-06T05:51:30.803852500Z"
    }
   },
   "id": "7b5acfa3dfd57a3",
   "execution_count": 2
  },
  {
   "cell_type": "code",
   "outputs": [],
   "source": [
    "uri='http://localhost:19530'\n",
    "db_name='essay_seacher_pdfs'\n",
    "model_path = \"/mnt/d/PycharmCode/LLMscratch/essay_searcher/embedding_models/BAAI/bge-m3\""
   ],
   "metadata": {
    "collapsed": false,
    "ExecuteTime": {
     "end_time": "2025-03-06T05:51:53.400837500Z",
     "start_time": "2025-03-06T05:51:53.394106100Z"
    }
   },
   "id": "46f682defe458cd8",
   "execution_count": 3
  },
  {
   "cell_type": "code",
   "outputs": [
    {
     "name": "stderr",
     "output_type": "stream",
     "text": [
      "WARNING: All log messages before absl::InitializeLog() is called are written to STDERR\n",
      "I0000 00:00:1741240316.217593    9758 fork_posix.cc:77] Other threads are currently calling into gRPC, skipping fork() handlers\n"
     ]
    }
   ],
   "source": [
    "database = essay_database(uri, db_name, model_path)"
   ],
   "metadata": {
    "collapsed": false,
    "ExecuteTime": {
     "end_time": "2025-03-06T05:51:59.738831900Z",
     "start_time": "2025-03-06T05:51:56.045089400Z"
    }
   },
   "id": "ededcd59a5d4f96c",
   "execution_count": 4
  },
  {
   "cell_type": "code",
   "outputs": [],
   "source": [
    "query = \"基于双语字典的匹配算法构造SFT数据集\""
   ],
   "metadata": {
    "collapsed": false,
    "ExecuteTime": {
     "end_time": "2025-03-06T05:56:52.258023400Z",
     "start_time": "2025-03-06T05:56:52.241136100Z"
    }
   },
   "id": "9ed110a8f8323b8d",
   "execution_count": 7
  },
  {
   "cell_type": "code",
   "outputs": [],
   "source": [
    "query_vector = database.embedding_model.encode_queries([query])['dense']\n"
   ],
   "metadata": {
    "collapsed": false,
    "ExecuteTime": {
     "end_time": "2025-03-06T05:29:57.350040600Z",
     "start_time": "2025-03-06T05:29:57.090519400Z"
    }
   },
   "id": "de9bc2a4f6a4f179",
   "execution_count": 39
  },
  {
   "cell_type": "code",
   "outputs": [],
   "source": [
    "res = database.search(query,'pdf_chunks')"
   ],
   "metadata": {
    "collapsed": false,
    "ExecuteTime": {
     "end_time": "2025-03-06T06:03:13.721983500Z",
     "start_time": "2025-03-06T06:03:12.642848900Z"
    }
   },
   "id": "99c773ce8c132cef",
   "execution_count": 9
  },
  {
   "cell_type": "code",
   "outputs": [],
   "source": [
    "def result_paser(retri_res, retain_fileds):\n",
    "    if len(retri_res) == 1:\n",
    "        retri_res = retri_res[0]\n",
    "    res = []\n",
    "    for data in retri_res:\n",
    "        d_dict = {}\n",
    "        for field in retain_fileds:\n",
    "            d_dict[field] = data['entity'][field]\n",
    "        res.append(d_dict)\n",
    "    return res\n",
    "            "
   ],
   "metadata": {
    "collapsed": false,
    "ExecuteTime": {
     "end_time": "2025-03-06T06:08:32.859678Z",
     "start_time": "2025-03-06T06:08:32.849311200Z"
    }
   },
   "id": "753452b93fd4efb9",
   "execution_count": 14
  },
  {
   "cell_type": "code",
   "outputs": [],
   "source": [
    "doc = result_paser(res, ['paper_name', 'section', 'content'])"
   ],
   "metadata": {
    "collapsed": false,
    "ExecuteTime": {
     "end_time": "2025-03-06T06:09:34.376424500Z",
     "start_time": "2025-03-06T06:09:34.360754100Z"
    }
   },
   "id": "af8ad3fc690f6589",
   "execution_count": 16
  },
  {
   "cell_type": "code",
   "outputs": [
    {
     "name": "stdout",
     "output_type": "stream",
     "text": [
      "# LexMatcher: Dictionary-centric Data Collection for LLM-based Machine Translation  \n",
      "# X-ALMA: PLUG & PLAY MODULES AND ADAPTIVE REJECTION FOR QUALITY TRANSLATION AT SCALE  \n",
      "# LexMatcher: Dictionary-centric Data Collection for LLM-based Machine Translation  \n",
      "# LexMatcher: Dictionary-centric Data Collection for LLM-based Machine Translation  \n",
      "# X-ALMA: PLUG & PLAY MODULES AND ADAPTIVE REJECTION FOR QUALITY TRANSLATION AT SCALE  \n"
     ]
    }
   ],
   "source": [
    "for d in doc:\n",
    "    print(d['paper_name'])"
   ],
   "metadata": {
    "collapsed": false,
    "ExecuteTime": {
     "end_time": "2025-03-06T06:09:51.812926400Z",
     "start_time": "2025-03-06T06:09:51.800847100Z"
    }
   },
   "id": "67c6e16108181f54",
   "execution_count": 17
  },
  {
   "cell_type": "code",
   "outputs": [],
   "source": [
    "field_dict = {\n",
    "    'paper_name': 'STRING',\n",
    "    'section': 'STRING',\n",
    "    'content': 'STRING',\n",
    "    'embedding': 'DataType.FLOAT_VECTOR'\n",
    "}\n",
    "\n",
    "database.create_collection(\n",
    "    field_dict=field_dict,\n",
    "    collection_name='pdf_chunks',\n",
    "    description = \"Knowledge base\",\n",
    "    dimension=1024  # The vectors we will use in this demo has 384 dimensions\n",
    ")"
   ],
   "metadata": {
    "collapsed": false,
    "ExecuteTime": {
     "end_time": "2025-03-05T13:41:41.164533900Z",
     "start_time": "2025-03-05T13:41:41.116847200Z"
    }
   },
   "id": "b4ed65df3c728ebc",
   "execution_count": 5
  },
  {
   "cell_type": "code",
   "outputs": [
    {
     "name": "stderr",
     "output_type": "stream",
     "text": [
      "You're using a XLMRobertaTokenizerFast tokenizer. Please note that with a fast tokenizer, using the `__call__` method is faster than using a method to encode the text followed by a call to the `pad` method to get a padded encoding.\n",
      "2025-03-05 22:13:45,514 [ERROR][handler]: RPC error: [insert_rows], <ParamError: (code=1, message=invalid input for float32 vector. Expected an np.ndarray with dtype=float32)>, <Time:{'RPC start': '2025-03-05 22:13:45.464742', 'RPC error': '2025-03-05 22:13:45.512550'}> (decorators.py:140)\n"
     ]
    },
    {
     "ename": "ParamError",
     "evalue": "<ParamError: (code=1, message=invalid input for float32 vector. Expected an np.ndarray with dtype=float32)>",
     "output_type": "error",
     "traceback": [
      "\u001B[0;31m---------------------------------------------------------------------------\u001B[0m",
      "\u001B[0;31mParamError\u001B[0m                                Traceback (most recent call last)",
      "    \u001B[0;31m[... skipping hidden 1 frame]\u001B[0m\n",
      "Cell \u001B[0;32mIn[7], line 1\u001B[0m\n\u001B[0;32m----> 1\u001B[0m \u001B[43mdatabase\u001B[49m\u001B[38;5;241;43m.\u001B[39;49m\u001B[43madd_batch\u001B[49m\u001B[43m(\u001B[49m\u001B[43mdata_list\u001B[49m\u001B[43m,\u001B[49m\u001B[38;5;124;43m'\u001B[39;49m\u001B[38;5;124;43mpdf_chunks\u001B[39;49m\u001B[38;5;124;43m'\u001B[39;49m\u001B[43m)\u001B[49m\n",
      "Cell \u001B[0;32mIn[3], line 39\u001B[0m, in \u001B[0;36messay_database.add_batch\u001B[0;34m(self, datalist, collection_name)\u001B[0m\n\u001B[1;32m     37\u001B[0m     chun[\u001B[38;5;124m'\u001B[39m\u001B[38;5;124membedding\u001B[39m\u001B[38;5;124m'\u001B[39m] \u001B[38;5;241m=\u001B[39m emb\n\u001B[0;32m---> 39\u001B[0m \u001B[38;5;28;43mself\u001B[39;49m\u001B[38;5;241;43m.\u001B[39;49m\u001B[43mclient\u001B[49m\u001B[38;5;241;43m.\u001B[39;49m\u001B[43minsert\u001B[49m\u001B[43m(\u001B[49m\n\u001B[1;32m     40\u001B[0m \u001B[43m    \u001B[49m\u001B[43mcollection_name\u001B[49m\u001B[38;5;241;43m=\u001B[39;49m\u001B[43mcollection_name\u001B[49m\u001B[43m,\u001B[49m\n\u001B[1;32m     41\u001B[0m \u001B[43m    \u001B[49m\u001B[43mdata\u001B[49m\u001B[38;5;241;43m=\u001B[39;49m\u001B[43mchunk_list\u001B[49m\u001B[43m,\u001B[49m\n\u001B[1;32m     42\u001B[0m \u001B[43m\u001B[49m\u001B[43m)\u001B[49m\n",
      "File \u001B[0;32m~/miniconda3/envs/Ddcase/lib/python3.9/site-packages/pymilvus/milvus_client/milvus_client.py:231\u001B[0m, in \u001B[0;36mMilvusClient.insert\u001B[0;34m(self, collection_name, data, timeout, partition_name, **kwargs)\u001B[0m\n\u001B[1;32m    230\u001B[0m \u001B[38;5;28;01mexcept\u001B[39;00m \u001B[38;5;167;01mException\u001B[39;00m \u001B[38;5;28;01mas\u001B[39;00m ex:\n\u001B[0;32m--> 231\u001B[0m     \u001B[38;5;28;01mraise\u001B[39;00m ex \u001B[38;5;28;01mfrom\u001B[39;00m \u001B[38;5;21;01mex\u001B[39;00m\n\u001B[1;32m    232\u001B[0m \u001B[38;5;28;01mreturn\u001B[39;00m OmitZeroDict(\n\u001B[1;32m    233\u001B[0m     {\n\u001B[1;32m    234\u001B[0m         \u001B[38;5;124m\"\u001B[39m\u001B[38;5;124minsert_count\u001B[39m\u001B[38;5;124m\"\u001B[39m: res\u001B[38;5;241m.\u001B[39minsert_count,\n\u001B[0;32m   (...)\u001B[0m\n\u001B[1;32m    237\u001B[0m     }\n\u001B[1;32m    238\u001B[0m )\n",
      "File \u001B[0;32m~/miniconda3/envs/Ddcase/lib/python3.9/site-packages/pymilvus/milvus_client/milvus_client.py:227\u001B[0m, in \u001B[0;36mMilvusClient.insert\u001B[0;34m(self, collection_name, data, timeout, partition_name, **kwargs)\u001B[0m\n\u001B[1;32m    226\u001B[0m \u001B[38;5;28;01mtry\u001B[39;00m:\n\u001B[0;32m--> 227\u001B[0m     res \u001B[38;5;241m=\u001B[39m \u001B[43mconn\u001B[49m\u001B[38;5;241;43m.\u001B[39;49m\u001B[43minsert_rows\u001B[49m\u001B[43m(\u001B[49m\n\u001B[1;32m    228\u001B[0m \u001B[43m        \u001B[49m\u001B[43mcollection_name\u001B[49m\u001B[43m,\u001B[49m\u001B[43m \u001B[49m\u001B[43mdata\u001B[49m\u001B[43m,\u001B[49m\u001B[43m \u001B[49m\u001B[43mpartition_name\u001B[49m\u001B[38;5;241;43m=\u001B[39;49m\u001B[43mpartition_name\u001B[49m\u001B[43m,\u001B[49m\u001B[43m \u001B[49m\u001B[43mtimeout\u001B[49m\u001B[38;5;241;43m=\u001B[39;49m\u001B[43mtimeout\u001B[49m\n\u001B[1;32m    229\u001B[0m \u001B[43m    \u001B[49m\u001B[43m)\u001B[49m\n\u001B[1;32m    230\u001B[0m \u001B[38;5;28;01mexcept\u001B[39;00m \u001B[38;5;167;01mException\u001B[39;00m \u001B[38;5;28;01mas\u001B[39;00m ex:\n",
      "File \u001B[0;32m~/miniconda3/envs/Ddcase/lib/python3.9/site-packages/pymilvus/decorators.py:141\u001B[0m, in \u001B[0;36merror_handler.<locals>.wrapper.<locals>.handler\u001B[0;34m(*args, **kwargs)\u001B[0m\n\u001B[1;32m    140\u001B[0m     LOGGER\u001B[38;5;241m.\u001B[39merror(\u001B[38;5;124mf\u001B[39m\u001B[38;5;124m\"\u001B[39m\u001B[38;5;124mRPC error: [\u001B[39m\u001B[38;5;132;01m{\u001B[39;00minner_name\u001B[38;5;132;01m}\u001B[39;00m\u001B[38;5;124m], \u001B[39m\u001B[38;5;132;01m{\u001B[39;00me\u001B[38;5;132;01m}\u001B[39;00m\u001B[38;5;124m, <Time:\u001B[39m\u001B[38;5;132;01m{\u001B[39;00mrecord_dict\u001B[38;5;132;01m}\u001B[39;00m\u001B[38;5;124m>\u001B[39m\u001B[38;5;124m\"\u001B[39m)\n\u001B[0;32m--> 141\u001B[0m     \u001B[38;5;28;01mraise\u001B[39;00m e \u001B[38;5;28;01mfrom\u001B[39;00m \u001B[38;5;21;01me\u001B[39;00m\n\u001B[1;32m    142\u001B[0m \u001B[38;5;28;01mexcept\u001B[39;00m grpc\u001B[38;5;241m.\u001B[39mFutureTimeoutError \u001B[38;5;28;01mas\u001B[39;00m e:\n",
      "File \u001B[0;32m~/miniconda3/envs/Ddcase/lib/python3.9/site-packages/pymilvus/decorators.py:137\u001B[0m, in \u001B[0;36merror_handler.<locals>.wrapper.<locals>.handler\u001B[0;34m(*args, **kwargs)\u001B[0m\n\u001B[1;32m    136\u001B[0m     record_dict[\u001B[38;5;124m\"\u001B[39m\u001B[38;5;124mRPC start\u001B[39m\u001B[38;5;124m\"\u001B[39m] \u001B[38;5;241m=\u001B[39m \u001B[38;5;28mstr\u001B[39m(datetime\u001B[38;5;241m.\u001B[39mdatetime\u001B[38;5;241m.\u001B[39mnow())\n\u001B[0;32m--> 137\u001B[0m     \u001B[38;5;28;01mreturn\u001B[39;00m \u001B[43mfunc\u001B[49m\u001B[43m(\u001B[49m\u001B[38;5;241;43m*\u001B[39;49m\u001B[43margs\u001B[49m\u001B[43m,\u001B[49m\u001B[43m \u001B[49m\u001B[38;5;241;43m*\u001B[39;49m\u001B[38;5;241;43m*\u001B[39;49m\u001B[43mkwargs\u001B[49m\u001B[43m)\u001B[49m\n\u001B[1;32m    138\u001B[0m \u001B[38;5;28;01mexcept\u001B[39;00m MilvusException \u001B[38;5;28;01mas\u001B[39;00m e:\n",
      "File \u001B[0;32m~/miniconda3/envs/Ddcase/lib/python3.9/site-packages/pymilvus/decorators.py:176\u001B[0m, in \u001B[0;36mtracing_request.<locals>.wrapper.<locals>.handler\u001B[0;34m(self, *args, **kwargs)\u001B[0m\n\u001B[1;32m    175\u001B[0m     \u001B[38;5;28mself\u001B[39m\u001B[38;5;241m.\u001B[39mset_onetime_request_id(req_id)\n\u001B[0;32m--> 176\u001B[0m \u001B[38;5;28;01mreturn\u001B[39;00m \u001B[43mfunc\u001B[49m\u001B[43m(\u001B[49m\u001B[38;5;28;43mself\u001B[39;49m\u001B[43m,\u001B[49m\u001B[43m \u001B[49m\u001B[38;5;241;43m*\u001B[39;49m\u001B[43margs\u001B[49m\u001B[43m,\u001B[49m\u001B[43m \u001B[49m\u001B[38;5;241;43m*\u001B[39;49m\u001B[38;5;241;43m*\u001B[39;49m\u001B[43mkwargs\u001B[49m\u001B[43m)\u001B[49m\n",
      "File \u001B[0;32m~/miniconda3/envs/Ddcase/lib/python3.9/site-packages/pymilvus/decorators.py:116\u001B[0m, in \u001B[0;36mretry_on_rpc_failure.<locals>.wrapper.<locals>.handler\u001B[0;34m(*args, **kwargs)\u001B[0m\n\u001B[1;32m    115\u001B[0m     \u001B[38;5;28;01melse\u001B[39;00m:\n\u001B[0;32m--> 116\u001B[0m         \u001B[38;5;28;01mraise\u001B[39;00m e \u001B[38;5;28;01mfrom\u001B[39;00m \u001B[38;5;21;01me\u001B[39;00m\n\u001B[1;32m    117\u001B[0m \u001B[38;5;28;01mexcept\u001B[39;00m \u001B[38;5;167;01mException\u001B[39;00m \u001B[38;5;28;01mas\u001B[39;00m e:\n",
      "File \u001B[0;32m~/miniconda3/envs/Ddcase/lib/python3.9/site-packages/pymilvus/decorators.py:86\u001B[0m, in \u001B[0;36mretry_on_rpc_failure.<locals>.wrapper.<locals>.handler\u001B[0;34m(*args, **kwargs)\u001B[0m\n\u001B[1;32m     85\u001B[0m \u001B[38;5;28;01mtry\u001B[39;00m:\n\u001B[0;32m---> 86\u001B[0m     \u001B[38;5;28;01mreturn\u001B[39;00m \u001B[43mfunc\u001B[49m\u001B[43m(\u001B[49m\u001B[38;5;241;43m*\u001B[39;49m\u001B[43margs\u001B[49m\u001B[43m,\u001B[49m\u001B[43m \u001B[49m\u001B[38;5;241;43m*\u001B[39;49m\u001B[38;5;241;43m*\u001B[39;49m\u001B[43mkwargs\u001B[49m\u001B[43m)\u001B[49m\n\u001B[1;32m     87\u001B[0m \u001B[38;5;28;01mexcept\u001B[39;00m grpc\u001B[38;5;241m.\u001B[39mRpcError \u001B[38;5;28;01mas\u001B[39;00m e:\n\u001B[1;32m     88\u001B[0m     \u001B[38;5;66;03m# Do not retry on these codes\u001B[39;00m\n",
      "File \u001B[0;32m~/miniconda3/envs/Ddcase/lib/python3.9/site-packages/pymilvus/client/grpc_handler.py:525\u001B[0m, in \u001B[0;36mGrpcHandler.insert_rows\u001B[0;34m(self, collection_name, entities, partition_name, schema, timeout, **kwargs)\u001B[0m\n\u001B[1;32m    515\u001B[0m \u001B[38;5;129m@retry_on_rpc_failure\u001B[39m()\n\u001B[1;32m    516\u001B[0m \u001B[38;5;28;01mdef\u001B[39;00m \u001B[38;5;21minsert_rows\u001B[39m(\n\u001B[1;32m    517\u001B[0m     \u001B[38;5;28mself\u001B[39m,\n\u001B[0;32m   (...)\u001B[0m\n\u001B[1;32m    523\u001B[0m     \u001B[38;5;241m*\u001B[39m\u001B[38;5;241m*\u001B[39mkwargs,\n\u001B[1;32m    524\u001B[0m ):\n\u001B[0;32m--> 525\u001B[0m     request \u001B[38;5;241m=\u001B[39m \u001B[38;5;28;43mself\u001B[39;49m\u001B[38;5;241;43m.\u001B[39;49m\u001B[43m_prepare_row_insert_request\u001B[49m\u001B[43m(\u001B[49m\n\u001B[1;32m    526\u001B[0m \u001B[43m        \u001B[49m\u001B[43mcollection_name\u001B[49m\u001B[43m,\u001B[49m\u001B[43m \u001B[49m\u001B[43mentities\u001B[49m\u001B[43m,\u001B[49m\u001B[43m \u001B[49m\u001B[43mpartition_name\u001B[49m\u001B[43m,\u001B[49m\u001B[43m \u001B[49m\u001B[43mschema\u001B[49m\u001B[43m,\u001B[49m\u001B[43m \u001B[49m\u001B[43mtimeout\u001B[49m\u001B[43m,\u001B[49m\u001B[43m \u001B[49m\u001B[38;5;241;43m*\u001B[39;49m\u001B[38;5;241;43m*\u001B[39;49m\u001B[43mkwargs\u001B[49m\n\u001B[1;32m    527\u001B[0m \u001B[43m    \u001B[49m\u001B[43m)\u001B[49m\n\u001B[1;32m    528\u001B[0m     resp \u001B[38;5;241m=\u001B[39m \u001B[38;5;28mself\u001B[39m\u001B[38;5;241m.\u001B[39m_stub\u001B[38;5;241m.\u001B[39mInsert(request\u001B[38;5;241m=\u001B[39mrequest, timeout\u001B[38;5;241m=\u001B[39mtimeout)\n",
      "File \u001B[0;32m~/miniconda3/envs/Ddcase/lib/python3.9/site-packages/pymilvus/client/grpc_handler.py:551\u001B[0m, in \u001B[0;36mGrpcHandler._prepare_row_insert_request\u001B[0;34m(self, collection_name, entity_rows, partition_name, schema, timeout, **kwargs)\u001B[0m\n\u001B[1;32m    549\u001B[0m enable_dynamic \u001B[38;5;241m=\u001B[39m schema\u001B[38;5;241m.\u001B[39mget(\u001B[38;5;124m\"\u001B[39m\u001B[38;5;124menable_dynamic_field\u001B[39m\u001B[38;5;124m\"\u001B[39m, \u001B[38;5;28;01mFalse\u001B[39;00m)\n\u001B[0;32m--> 551\u001B[0m \u001B[38;5;28;01mreturn\u001B[39;00m \u001B[43mPrepare\u001B[49m\u001B[38;5;241;43m.\u001B[39;49m\u001B[43mrow_insert_param\u001B[49m\u001B[43m(\u001B[49m\n\u001B[1;32m    552\u001B[0m \u001B[43m    \u001B[49m\u001B[43mcollection_name\u001B[49m\u001B[43m,\u001B[49m\n\u001B[1;32m    553\u001B[0m \u001B[43m    \u001B[49m\u001B[43mentity_rows\u001B[49m\u001B[43m,\u001B[49m\n\u001B[1;32m    554\u001B[0m \u001B[43m    \u001B[49m\u001B[43mpartition_name\u001B[49m\u001B[43m,\u001B[49m\n\u001B[1;32m    555\u001B[0m \u001B[43m    \u001B[49m\u001B[43mfields_info\u001B[49m\u001B[43m,\u001B[49m\n\u001B[1;32m    556\u001B[0m \u001B[43m    \u001B[49m\u001B[43menable_dynamic\u001B[49m\u001B[38;5;241;43m=\u001B[39;49m\u001B[43menable_dynamic\u001B[49m\u001B[43m,\u001B[49m\n\u001B[1;32m    557\u001B[0m \u001B[43m\u001B[49m\u001B[43m)\u001B[49m\n",
      "File \u001B[0;32m~/miniconda3/envs/Ddcase/lib/python3.9/site-packages/pymilvus/client/prepare.py:623\u001B[0m, in \u001B[0;36mPrepare.row_insert_param\u001B[0;34m(cls, collection_name, entities, partition_name, fields_info, enable_dynamic)\u001B[0m\n\u001B[1;32m    617\u001B[0m request \u001B[38;5;241m=\u001B[39m milvus_types\u001B[38;5;241m.\u001B[39mInsertRequest(\n\u001B[1;32m    618\u001B[0m     collection_name\u001B[38;5;241m=\u001B[39mcollection_name,\n\u001B[1;32m    619\u001B[0m     partition_name\u001B[38;5;241m=\u001B[39mp_name,\n\u001B[1;32m    620\u001B[0m     num_rows\u001B[38;5;241m=\u001B[39m\u001B[38;5;28mlen\u001B[39m(entities),\n\u001B[1;32m    621\u001B[0m )\n\u001B[0;32m--> 623\u001B[0m \u001B[38;5;28;01mreturn\u001B[39;00m \u001B[38;5;28;43mcls\u001B[39;49m\u001B[38;5;241;43m.\u001B[39;49m\u001B[43m_parse_row_request\u001B[49m\u001B[43m(\u001B[49m\u001B[43mrequest\u001B[49m\u001B[43m,\u001B[49m\u001B[43m \u001B[49m\u001B[43mfields_info\u001B[49m\u001B[43m,\u001B[49m\u001B[43m \u001B[49m\u001B[43menable_dynamic\u001B[49m\u001B[43m,\u001B[49m\u001B[43m \u001B[49m\u001B[43mentities\u001B[49m\u001B[43m)\u001B[49m\n",
      "File \u001B[0;32m~/miniconda3/envs/Ddcase/lib/python3.9/site-packages/pymilvus/client/prepare.py:473\u001B[0m, in \u001B[0;36mPrepare._parse_row_request\u001B[0;34m(request, fields_info, enable_dynamic, entities)\u001B[0m\n\u001B[1;32m    472\u001B[0m             field_data\u001B[38;5;241m.\u001B[39mvalid_data\u001B[38;5;241m.\u001B[39mappend(v \u001B[38;5;129;01mis\u001B[39;00m \u001B[38;5;129;01mnot\u001B[39;00m \u001B[38;5;28;01mNone\u001B[39;00m)\n\u001B[0;32m--> 473\u001B[0m         \u001B[43mentity_helper\u001B[49m\u001B[38;5;241;43m.\u001B[39;49m\u001B[43mpack_field_value_to_field_data\u001B[49m\u001B[43m(\u001B[49m\u001B[43mv\u001B[49m\u001B[43m,\u001B[49m\u001B[43m \u001B[49m\u001B[43mfield_data\u001B[49m\u001B[43m,\u001B[49m\u001B[43m \u001B[49m\u001B[43mfield_info\u001B[49m\u001B[43m)\u001B[49m\n\u001B[1;32m    474\u001B[0m \u001B[38;5;28;01mfor\u001B[39;00m field \u001B[38;5;129;01min\u001B[39;00m input_fields_info:\n",
      "File \u001B[0;32m~/miniconda3/envs/Ddcase/lib/python3.9/site-packages/pymilvus/client/entity_helper.py:310\u001B[0m, in \u001B[0;36mpack_field_value_to_field_data\u001B[0;34m(field_value, field_data, field_info)\u001B[0m\n\u001B[1;32m    309\u001B[0m \u001B[38;5;28;01mif\u001B[39;00m field_value\u001B[38;5;241m.\u001B[39mdtype \u001B[38;5;129;01mnot\u001B[39;00m \u001B[38;5;129;01min\u001B[39;00m (\u001B[38;5;124m\"\u001B[39m\u001B[38;5;124mfloat32\u001B[39m\u001B[38;5;124m\"\u001B[39m, \u001B[38;5;124m\"\u001B[39m\u001B[38;5;124mfloat64\u001B[39m\u001B[38;5;124m\"\u001B[39m):\n\u001B[0;32m--> 310\u001B[0m     \u001B[38;5;28;01mraise\u001B[39;00m ParamError(\n\u001B[1;32m    311\u001B[0m         message\u001B[38;5;241m=\u001B[39m\u001B[38;5;124m\"\u001B[39m\u001B[38;5;124minvalid input for float32 vector. Expected an np.ndarray with dtype=float32\u001B[39m\u001B[38;5;124m\"\u001B[39m\n\u001B[1;32m    312\u001B[0m     )\n\u001B[1;32m    313\u001B[0m f_value \u001B[38;5;241m=\u001B[39m field_value\u001B[38;5;241m.\u001B[39mtolist()\n",
      "\u001B[0;31mParamError\u001B[0m: <ParamError: (code=1, message=invalid input for float32 vector. Expected an np.ndarray with dtype=float32)>",
      "\nThe above exception was the direct cause of the following exception:\n",
      "\u001B[0;31mParamError\u001B[0m                                Traceback (most recent call last)",
      "    \u001B[0;31m[... skipping hidden 1 frame]\u001B[0m\n",
      "Cell \u001B[0;32mIn[7], line 1\u001B[0m\n\u001B[0;32m----> 1\u001B[0m \u001B[43mdatabase\u001B[49m\u001B[38;5;241;43m.\u001B[39;49m\u001B[43madd_batch\u001B[49m\u001B[43m(\u001B[49m\u001B[43mdata_list\u001B[49m\u001B[43m,\u001B[49m\u001B[38;5;124;43m'\u001B[39;49m\u001B[38;5;124;43mpdf_chunks\u001B[39;49m\u001B[38;5;124;43m'\u001B[39;49m\u001B[43m)\u001B[49m\n",
      "Cell \u001B[0;32mIn[3], line 39\u001B[0m, in \u001B[0;36messay_database.add_batch\u001B[0;34m(self, datalist, collection_name)\u001B[0m\n\u001B[1;32m     37\u001B[0m     chun[\u001B[38;5;124m'\u001B[39m\u001B[38;5;124membedding\u001B[39m\u001B[38;5;124m'\u001B[39m] \u001B[38;5;241m=\u001B[39m emb\n\u001B[0;32m---> 39\u001B[0m \u001B[38;5;28;43mself\u001B[39;49m\u001B[38;5;241;43m.\u001B[39;49m\u001B[43mclient\u001B[49m\u001B[38;5;241;43m.\u001B[39;49m\u001B[43minsert\u001B[49m\u001B[43m(\u001B[49m\n\u001B[1;32m     40\u001B[0m \u001B[43m    \u001B[49m\u001B[43mcollection_name\u001B[49m\u001B[38;5;241;43m=\u001B[39;49m\u001B[43mcollection_name\u001B[49m\u001B[43m,\u001B[49m\n\u001B[1;32m     41\u001B[0m \u001B[43m    \u001B[49m\u001B[43mdata\u001B[49m\u001B[38;5;241;43m=\u001B[39;49m\u001B[43mchunk_list\u001B[49m\u001B[43m,\u001B[49m\n\u001B[1;32m     42\u001B[0m \u001B[43m\u001B[49m\u001B[43m)\u001B[49m\n",
      "File \u001B[0;32m~/miniconda3/envs/Ddcase/lib/python3.9/site-packages/pymilvus/milvus_client/milvus_client.py:231\u001B[0m, in \u001B[0;36mMilvusClient.insert\u001B[0;34m(self, collection_name, data, timeout, partition_name, **kwargs)\u001B[0m\n\u001B[1;32m    230\u001B[0m \u001B[38;5;28;01mexcept\u001B[39;00m \u001B[38;5;167;01mException\u001B[39;00m \u001B[38;5;28;01mas\u001B[39;00m ex:\n\u001B[0;32m--> 231\u001B[0m     \u001B[38;5;28;01mraise\u001B[39;00m ex \u001B[38;5;28;01mfrom\u001B[39;00m \u001B[38;5;21;01mex\u001B[39;00m\n\u001B[1;32m    232\u001B[0m \u001B[38;5;28;01mreturn\u001B[39;00m OmitZeroDict(\n\u001B[1;32m    233\u001B[0m     {\n\u001B[1;32m    234\u001B[0m         \u001B[38;5;124m\"\u001B[39m\u001B[38;5;124minsert_count\u001B[39m\u001B[38;5;124m\"\u001B[39m: res\u001B[38;5;241m.\u001B[39minsert_count,\n\u001B[0;32m   (...)\u001B[0m\n\u001B[1;32m    237\u001B[0m     }\n\u001B[1;32m    238\u001B[0m )\n",
      "File \u001B[0;32m~/miniconda3/envs/Ddcase/lib/python3.9/site-packages/pymilvus/milvus_client/milvus_client.py:227\u001B[0m, in \u001B[0;36mMilvusClient.insert\u001B[0;34m(self, collection_name, data, timeout, partition_name, **kwargs)\u001B[0m\n\u001B[1;32m    226\u001B[0m \u001B[38;5;28;01mtry\u001B[39;00m:\n\u001B[0;32m--> 227\u001B[0m     res \u001B[38;5;241m=\u001B[39m \u001B[43mconn\u001B[49m\u001B[38;5;241;43m.\u001B[39;49m\u001B[43minsert_rows\u001B[49m\u001B[43m(\u001B[49m\n\u001B[1;32m    228\u001B[0m \u001B[43m        \u001B[49m\u001B[43mcollection_name\u001B[49m\u001B[43m,\u001B[49m\u001B[43m \u001B[49m\u001B[43mdata\u001B[49m\u001B[43m,\u001B[49m\u001B[43m \u001B[49m\u001B[43mpartition_name\u001B[49m\u001B[38;5;241;43m=\u001B[39;49m\u001B[43mpartition_name\u001B[49m\u001B[43m,\u001B[49m\u001B[43m \u001B[49m\u001B[43mtimeout\u001B[49m\u001B[38;5;241;43m=\u001B[39;49m\u001B[43mtimeout\u001B[49m\n\u001B[1;32m    229\u001B[0m \u001B[43m    \u001B[49m\u001B[43m)\u001B[49m\n\u001B[1;32m    230\u001B[0m \u001B[38;5;28;01mexcept\u001B[39;00m \u001B[38;5;167;01mException\u001B[39;00m \u001B[38;5;28;01mas\u001B[39;00m ex:\n",
      "File \u001B[0;32m~/miniconda3/envs/Ddcase/lib/python3.9/site-packages/pymilvus/decorators.py:141\u001B[0m, in \u001B[0;36merror_handler.<locals>.wrapper.<locals>.handler\u001B[0;34m(*args, **kwargs)\u001B[0m\n\u001B[1;32m    140\u001B[0m     LOGGER\u001B[38;5;241m.\u001B[39merror(\u001B[38;5;124mf\u001B[39m\u001B[38;5;124m\"\u001B[39m\u001B[38;5;124mRPC error: [\u001B[39m\u001B[38;5;132;01m{\u001B[39;00minner_name\u001B[38;5;132;01m}\u001B[39;00m\u001B[38;5;124m], \u001B[39m\u001B[38;5;132;01m{\u001B[39;00me\u001B[38;5;132;01m}\u001B[39;00m\u001B[38;5;124m, <Time:\u001B[39m\u001B[38;5;132;01m{\u001B[39;00mrecord_dict\u001B[38;5;132;01m}\u001B[39;00m\u001B[38;5;124m>\u001B[39m\u001B[38;5;124m\"\u001B[39m)\n\u001B[0;32m--> 141\u001B[0m     \u001B[38;5;28;01mraise\u001B[39;00m e \u001B[38;5;28;01mfrom\u001B[39;00m \u001B[38;5;21;01me\u001B[39;00m\n\u001B[1;32m    142\u001B[0m \u001B[38;5;28;01mexcept\u001B[39;00m grpc\u001B[38;5;241m.\u001B[39mFutureTimeoutError \u001B[38;5;28;01mas\u001B[39;00m e:\n",
      "File \u001B[0;32m~/miniconda3/envs/Ddcase/lib/python3.9/site-packages/pymilvus/decorators.py:137\u001B[0m, in \u001B[0;36merror_handler.<locals>.wrapper.<locals>.handler\u001B[0;34m(*args, **kwargs)\u001B[0m\n\u001B[1;32m    136\u001B[0m     record_dict[\u001B[38;5;124m\"\u001B[39m\u001B[38;5;124mRPC start\u001B[39m\u001B[38;5;124m\"\u001B[39m] \u001B[38;5;241m=\u001B[39m \u001B[38;5;28mstr\u001B[39m(datetime\u001B[38;5;241m.\u001B[39mdatetime\u001B[38;5;241m.\u001B[39mnow())\n\u001B[0;32m--> 137\u001B[0m     \u001B[38;5;28;01mreturn\u001B[39;00m \u001B[43mfunc\u001B[49m\u001B[43m(\u001B[49m\u001B[38;5;241;43m*\u001B[39;49m\u001B[43margs\u001B[49m\u001B[43m,\u001B[49m\u001B[43m \u001B[49m\u001B[38;5;241;43m*\u001B[39;49m\u001B[38;5;241;43m*\u001B[39;49m\u001B[43mkwargs\u001B[49m\u001B[43m)\u001B[49m\n\u001B[1;32m    138\u001B[0m \u001B[38;5;28;01mexcept\u001B[39;00m MilvusException \u001B[38;5;28;01mas\u001B[39;00m e:\n",
      "File \u001B[0;32m~/miniconda3/envs/Ddcase/lib/python3.9/site-packages/pymilvus/decorators.py:176\u001B[0m, in \u001B[0;36mtracing_request.<locals>.wrapper.<locals>.handler\u001B[0;34m(self, *args, **kwargs)\u001B[0m\n\u001B[1;32m    175\u001B[0m     \u001B[38;5;28mself\u001B[39m\u001B[38;5;241m.\u001B[39mset_onetime_request_id(req_id)\n\u001B[0;32m--> 176\u001B[0m \u001B[38;5;28;01mreturn\u001B[39;00m \u001B[43mfunc\u001B[49m\u001B[43m(\u001B[49m\u001B[38;5;28;43mself\u001B[39;49m\u001B[43m,\u001B[49m\u001B[43m \u001B[49m\u001B[38;5;241;43m*\u001B[39;49m\u001B[43margs\u001B[49m\u001B[43m,\u001B[49m\u001B[43m \u001B[49m\u001B[38;5;241;43m*\u001B[39;49m\u001B[38;5;241;43m*\u001B[39;49m\u001B[43mkwargs\u001B[49m\u001B[43m)\u001B[49m\n",
      "File \u001B[0;32m~/miniconda3/envs/Ddcase/lib/python3.9/site-packages/pymilvus/decorators.py:116\u001B[0m, in \u001B[0;36mretry_on_rpc_failure.<locals>.wrapper.<locals>.handler\u001B[0;34m(*args, **kwargs)\u001B[0m\n\u001B[1;32m    115\u001B[0m     \u001B[38;5;28;01melse\u001B[39;00m:\n\u001B[0;32m--> 116\u001B[0m         \u001B[38;5;28;01mraise\u001B[39;00m e \u001B[38;5;28;01mfrom\u001B[39;00m \u001B[38;5;21;01me\u001B[39;00m\n\u001B[1;32m    117\u001B[0m \u001B[38;5;28;01mexcept\u001B[39;00m \u001B[38;5;167;01mException\u001B[39;00m \u001B[38;5;28;01mas\u001B[39;00m e:\n",
      "File \u001B[0;32m~/miniconda3/envs/Ddcase/lib/python3.9/site-packages/pymilvus/decorators.py:86\u001B[0m, in \u001B[0;36mretry_on_rpc_failure.<locals>.wrapper.<locals>.handler\u001B[0;34m(*args, **kwargs)\u001B[0m\n\u001B[1;32m     85\u001B[0m \u001B[38;5;28;01mtry\u001B[39;00m:\n\u001B[0;32m---> 86\u001B[0m     \u001B[38;5;28;01mreturn\u001B[39;00m \u001B[43mfunc\u001B[49m\u001B[43m(\u001B[49m\u001B[38;5;241;43m*\u001B[39;49m\u001B[43margs\u001B[49m\u001B[43m,\u001B[49m\u001B[43m \u001B[49m\u001B[38;5;241;43m*\u001B[39;49m\u001B[38;5;241;43m*\u001B[39;49m\u001B[43mkwargs\u001B[49m\u001B[43m)\u001B[49m\n\u001B[1;32m     87\u001B[0m \u001B[38;5;28;01mexcept\u001B[39;00m grpc\u001B[38;5;241m.\u001B[39mRpcError \u001B[38;5;28;01mas\u001B[39;00m e:\n\u001B[1;32m     88\u001B[0m     \u001B[38;5;66;03m# Do not retry on these codes\u001B[39;00m\n",
      "File \u001B[0;32m~/miniconda3/envs/Ddcase/lib/python3.9/site-packages/pymilvus/client/grpc_handler.py:525\u001B[0m, in \u001B[0;36mGrpcHandler.insert_rows\u001B[0;34m(self, collection_name, entities, partition_name, schema, timeout, **kwargs)\u001B[0m\n\u001B[1;32m    515\u001B[0m \u001B[38;5;129m@retry_on_rpc_failure\u001B[39m()\n\u001B[1;32m    516\u001B[0m \u001B[38;5;28;01mdef\u001B[39;00m \u001B[38;5;21minsert_rows\u001B[39m(\n\u001B[1;32m    517\u001B[0m     \u001B[38;5;28mself\u001B[39m,\n\u001B[0;32m   (...)\u001B[0m\n\u001B[1;32m    523\u001B[0m     \u001B[38;5;241m*\u001B[39m\u001B[38;5;241m*\u001B[39mkwargs,\n\u001B[1;32m    524\u001B[0m ):\n\u001B[0;32m--> 525\u001B[0m     request \u001B[38;5;241m=\u001B[39m \u001B[38;5;28;43mself\u001B[39;49m\u001B[38;5;241;43m.\u001B[39;49m\u001B[43m_prepare_row_insert_request\u001B[49m\u001B[43m(\u001B[49m\n\u001B[1;32m    526\u001B[0m \u001B[43m        \u001B[49m\u001B[43mcollection_name\u001B[49m\u001B[43m,\u001B[49m\u001B[43m \u001B[49m\u001B[43mentities\u001B[49m\u001B[43m,\u001B[49m\u001B[43m \u001B[49m\u001B[43mpartition_name\u001B[49m\u001B[43m,\u001B[49m\u001B[43m \u001B[49m\u001B[43mschema\u001B[49m\u001B[43m,\u001B[49m\u001B[43m \u001B[49m\u001B[43mtimeout\u001B[49m\u001B[43m,\u001B[49m\u001B[43m \u001B[49m\u001B[38;5;241;43m*\u001B[39;49m\u001B[38;5;241;43m*\u001B[39;49m\u001B[43mkwargs\u001B[49m\n\u001B[1;32m    527\u001B[0m \u001B[43m    \u001B[49m\u001B[43m)\u001B[49m\n\u001B[1;32m    528\u001B[0m     resp \u001B[38;5;241m=\u001B[39m \u001B[38;5;28mself\u001B[39m\u001B[38;5;241m.\u001B[39m_stub\u001B[38;5;241m.\u001B[39mInsert(request\u001B[38;5;241m=\u001B[39mrequest, timeout\u001B[38;5;241m=\u001B[39mtimeout)\n",
      "File \u001B[0;32m~/miniconda3/envs/Ddcase/lib/python3.9/site-packages/pymilvus/client/grpc_handler.py:551\u001B[0m, in \u001B[0;36mGrpcHandler._prepare_row_insert_request\u001B[0;34m(self, collection_name, entity_rows, partition_name, schema, timeout, **kwargs)\u001B[0m\n\u001B[1;32m    549\u001B[0m enable_dynamic \u001B[38;5;241m=\u001B[39m schema\u001B[38;5;241m.\u001B[39mget(\u001B[38;5;124m\"\u001B[39m\u001B[38;5;124menable_dynamic_field\u001B[39m\u001B[38;5;124m\"\u001B[39m, \u001B[38;5;28;01mFalse\u001B[39;00m)\n\u001B[0;32m--> 551\u001B[0m \u001B[38;5;28;01mreturn\u001B[39;00m \u001B[43mPrepare\u001B[49m\u001B[38;5;241;43m.\u001B[39;49m\u001B[43mrow_insert_param\u001B[49m\u001B[43m(\u001B[49m\n\u001B[1;32m    552\u001B[0m \u001B[43m    \u001B[49m\u001B[43mcollection_name\u001B[49m\u001B[43m,\u001B[49m\n\u001B[1;32m    553\u001B[0m \u001B[43m    \u001B[49m\u001B[43mentity_rows\u001B[49m\u001B[43m,\u001B[49m\n\u001B[1;32m    554\u001B[0m \u001B[43m    \u001B[49m\u001B[43mpartition_name\u001B[49m\u001B[43m,\u001B[49m\n\u001B[1;32m    555\u001B[0m \u001B[43m    \u001B[49m\u001B[43mfields_info\u001B[49m\u001B[43m,\u001B[49m\n\u001B[1;32m    556\u001B[0m \u001B[43m    \u001B[49m\u001B[43menable_dynamic\u001B[49m\u001B[38;5;241;43m=\u001B[39;49m\u001B[43menable_dynamic\u001B[49m\u001B[43m,\u001B[49m\n\u001B[1;32m    557\u001B[0m \u001B[43m\u001B[49m\u001B[43m)\u001B[49m\n",
      "File \u001B[0;32m~/miniconda3/envs/Ddcase/lib/python3.9/site-packages/pymilvus/client/prepare.py:623\u001B[0m, in \u001B[0;36mPrepare.row_insert_param\u001B[0;34m(cls, collection_name, entities, partition_name, fields_info, enable_dynamic)\u001B[0m\n\u001B[1;32m    617\u001B[0m request \u001B[38;5;241m=\u001B[39m milvus_types\u001B[38;5;241m.\u001B[39mInsertRequest(\n\u001B[1;32m    618\u001B[0m     collection_name\u001B[38;5;241m=\u001B[39mcollection_name,\n\u001B[1;32m    619\u001B[0m     partition_name\u001B[38;5;241m=\u001B[39mp_name,\n\u001B[1;32m    620\u001B[0m     num_rows\u001B[38;5;241m=\u001B[39m\u001B[38;5;28mlen\u001B[39m(entities),\n\u001B[1;32m    621\u001B[0m )\n\u001B[0;32m--> 623\u001B[0m \u001B[38;5;28;01mreturn\u001B[39;00m \u001B[38;5;28;43mcls\u001B[39;49m\u001B[38;5;241;43m.\u001B[39;49m\u001B[43m_parse_row_request\u001B[49m\u001B[43m(\u001B[49m\u001B[43mrequest\u001B[49m\u001B[43m,\u001B[49m\u001B[43m \u001B[49m\u001B[43mfields_info\u001B[49m\u001B[43m,\u001B[49m\u001B[43m \u001B[49m\u001B[43menable_dynamic\u001B[49m\u001B[43m,\u001B[49m\u001B[43m \u001B[49m\u001B[43mentities\u001B[49m\u001B[43m)\u001B[49m\n",
      "File \u001B[0;32m~/miniconda3/envs/Ddcase/lib/python3.9/site-packages/pymilvus/client/prepare.py:473\u001B[0m, in \u001B[0;36mPrepare._parse_row_request\u001B[0;34m(request, fields_info, enable_dynamic, entities)\u001B[0m\n\u001B[1;32m    472\u001B[0m             field_data\u001B[38;5;241m.\u001B[39mvalid_data\u001B[38;5;241m.\u001B[39mappend(v \u001B[38;5;129;01mis\u001B[39;00m \u001B[38;5;129;01mnot\u001B[39;00m \u001B[38;5;28;01mNone\u001B[39;00m)\n\u001B[0;32m--> 473\u001B[0m         \u001B[43mentity_helper\u001B[49m\u001B[38;5;241;43m.\u001B[39;49m\u001B[43mpack_field_value_to_field_data\u001B[49m\u001B[43m(\u001B[49m\u001B[43mv\u001B[49m\u001B[43m,\u001B[49m\u001B[43m \u001B[49m\u001B[43mfield_data\u001B[49m\u001B[43m,\u001B[49m\u001B[43m \u001B[49m\u001B[43mfield_info\u001B[49m\u001B[43m)\u001B[49m\n\u001B[1;32m    474\u001B[0m \u001B[38;5;28;01mfor\u001B[39;00m field \u001B[38;5;129;01min\u001B[39;00m input_fields_info:\n",
      "File \u001B[0;32m~/miniconda3/envs/Ddcase/lib/python3.9/site-packages/pymilvus/client/entity_helper.py:310\u001B[0m, in \u001B[0;36mpack_field_value_to_field_data\u001B[0;34m(field_value, field_data, field_info)\u001B[0m\n\u001B[1;32m    309\u001B[0m \u001B[38;5;28;01mif\u001B[39;00m field_value\u001B[38;5;241m.\u001B[39mdtype \u001B[38;5;129;01mnot\u001B[39;00m \u001B[38;5;129;01min\u001B[39;00m (\u001B[38;5;124m\"\u001B[39m\u001B[38;5;124mfloat32\u001B[39m\u001B[38;5;124m\"\u001B[39m, \u001B[38;5;124m\"\u001B[39m\u001B[38;5;124mfloat64\u001B[39m\u001B[38;5;124m\"\u001B[39m):\n\u001B[0;32m--> 310\u001B[0m     \u001B[38;5;28;01mraise\u001B[39;00m ParamError(\n\u001B[1;32m    311\u001B[0m         message\u001B[38;5;241m=\u001B[39m\u001B[38;5;124m\"\u001B[39m\u001B[38;5;124minvalid input for float32 vector. Expected an np.ndarray with dtype=float32\u001B[39m\u001B[38;5;124m\"\u001B[39m\n\u001B[1;32m    312\u001B[0m     )\n\u001B[1;32m    313\u001B[0m f_value \u001B[38;5;241m=\u001B[39m field_value\u001B[38;5;241m.\u001B[39mtolist()\n",
      "\u001B[0;31mParamError\u001B[0m: <ParamError: (code=1, message=invalid input for float32 vector. Expected an np.ndarray with dtype=float32)>",
      "\nThe above exception was the direct cause of the following exception:\n",
      "\u001B[0;31mParamError\u001B[0m                                Traceback (most recent call last)",
      "Cell \u001B[0;32mIn[7], line 1\u001B[0m\n\u001B[0;32m----> 1\u001B[0m \u001B[43mdatabase\u001B[49m\u001B[38;5;241;43m.\u001B[39;49m\u001B[43madd_batch\u001B[49m\u001B[43m(\u001B[49m\u001B[43mdata_list\u001B[49m\u001B[43m,\u001B[49m\u001B[38;5;124;43m'\u001B[39;49m\u001B[38;5;124;43mpdf_chunks\u001B[39;49m\u001B[38;5;124;43m'\u001B[39;49m\u001B[43m)\u001B[49m\n",
      "Cell \u001B[0;32mIn[3], line 39\u001B[0m, in \u001B[0;36messay_database.add_batch\u001B[0;34m(self, datalist, collection_name)\u001B[0m\n\u001B[1;32m     36\u001B[0m \u001B[38;5;28;01mfor\u001B[39;00m emb, chun \u001B[38;5;129;01min\u001B[39;00m \u001B[38;5;28mzip\u001B[39m(docs_embeddings, chunk_list):\n\u001B[1;32m     37\u001B[0m     chun[\u001B[38;5;124m'\u001B[39m\u001B[38;5;124membedding\u001B[39m\u001B[38;5;124m'\u001B[39m] \u001B[38;5;241m=\u001B[39m emb\n\u001B[0;32m---> 39\u001B[0m \u001B[38;5;28;43mself\u001B[39;49m\u001B[38;5;241;43m.\u001B[39;49m\u001B[43mclient\u001B[49m\u001B[38;5;241;43m.\u001B[39;49m\u001B[43minsert\u001B[49m\u001B[43m(\u001B[49m\n\u001B[1;32m     40\u001B[0m \u001B[43m    \u001B[49m\u001B[43mcollection_name\u001B[49m\u001B[38;5;241;43m=\u001B[39;49m\u001B[43mcollection_name\u001B[49m\u001B[43m,\u001B[49m\n\u001B[1;32m     41\u001B[0m \u001B[43m    \u001B[49m\u001B[43mdata\u001B[49m\u001B[38;5;241;43m=\u001B[39;49m\u001B[43mchunk_list\u001B[49m\u001B[43m,\u001B[49m\n\u001B[1;32m     42\u001B[0m \u001B[43m\u001B[49m\u001B[43m)\u001B[49m\n",
      "File \u001B[0;32m~/miniconda3/envs/Ddcase/lib/python3.9/site-packages/pymilvus/milvus_client/milvus_client.py:231\u001B[0m, in \u001B[0;36mMilvusClient.insert\u001B[0;34m(self, collection_name, data, timeout, partition_name, **kwargs)\u001B[0m\n\u001B[1;32m    227\u001B[0m     res \u001B[38;5;241m=\u001B[39m conn\u001B[38;5;241m.\u001B[39minsert_rows(\n\u001B[1;32m    228\u001B[0m         collection_name, data, partition_name\u001B[38;5;241m=\u001B[39mpartition_name, timeout\u001B[38;5;241m=\u001B[39mtimeout\n\u001B[1;32m    229\u001B[0m     )\n\u001B[1;32m    230\u001B[0m \u001B[38;5;28;01mexcept\u001B[39;00m \u001B[38;5;167;01mException\u001B[39;00m \u001B[38;5;28;01mas\u001B[39;00m ex:\n\u001B[0;32m--> 231\u001B[0m     \u001B[38;5;28;01mraise\u001B[39;00m ex \u001B[38;5;28;01mfrom\u001B[39;00m \u001B[38;5;21;01mex\u001B[39;00m\n\u001B[1;32m    232\u001B[0m \u001B[38;5;28;01mreturn\u001B[39;00m OmitZeroDict(\n\u001B[1;32m    233\u001B[0m     {\n\u001B[1;32m    234\u001B[0m         \u001B[38;5;124m\"\u001B[39m\u001B[38;5;124minsert_count\u001B[39m\u001B[38;5;124m\"\u001B[39m: res\u001B[38;5;241m.\u001B[39minsert_count,\n\u001B[0;32m   (...)\u001B[0m\n\u001B[1;32m    237\u001B[0m     }\n\u001B[1;32m    238\u001B[0m )\n",
      "File \u001B[0;32m~/miniconda3/envs/Ddcase/lib/python3.9/site-packages/pymilvus/milvus_client/milvus_client.py:227\u001B[0m, in \u001B[0;36mMilvusClient.insert\u001B[0;34m(self, collection_name, data, timeout, partition_name, **kwargs)\u001B[0m\n\u001B[1;32m    225\u001B[0m \u001B[38;5;66;03m# Insert into the collection.\u001B[39;00m\n\u001B[1;32m    226\u001B[0m \u001B[38;5;28;01mtry\u001B[39;00m:\n\u001B[0;32m--> 227\u001B[0m     res \u001B[38;5;241m=\u001B[39m \u001B[43mconn\u001B[49m\u001B[38;5;241;43m.\u001B[39;49m\u001B[43minsert_rows\u001B[49m\u001B[43m(\u001B[49m\n\u001B[1;32m    228\u001B[0m \u001B[43m        \u001B[49m\u001B[43mcollection_name\u001B[49m\u001B[43m,\u001B[49m\u001B[43m \u001B[49m\u001B[43mdata\u001B[49m\u001B[43m,\u001B[49m\u001B[43m \u001B[49m\u001B[43mpartition_name\u001B[49m\u001B[38;5;241;43m=\u001B[39;49m\u001B[43mpartition_name\u001B[49m\u001B[43m,\u001B[49m\u001B[43m \u001B[49m\u001B[43mtimeout\u001B[49m\u001B[38;5;241;43m=\u001B[39;49m\u001B[43mtimeout\u001B[49m\n\u001B[1;32m    229\u001B[0m \u001B[43m    \u001B[49m\u001B[43m)\u001B[49m\n\u001B[1;32m    230\u001B[0m \u001B[38;5;28;01mexcept\u001B[39;00m \u001B[38;5;167;01mException\u001B[39;00m \u001B[38;5;28;01mas\u001B[39;00m ex:\n\u001B[1;32m    231\u001B[0m     \u001B[38;5;28;01mraise\u001B[39;00m ex \u001B[38;5;28;01mfrom\u001B[39;00m \u001B[38;5;21;01mex\u001B[39;00m\n",
      "File \u001B[0;32m~/miniconda3/envs/Ddcase/lib/python3.9/site-packages/pymilvus/decorators.py:141\u001B[0m, in \u001B[0;36merror_handler.<locals>.wrapper.<locals>.handler\u001B[0;34m(*args, **kwargs)\u001B[0m\n\u001B[1;32m    139\u001B[0m     record_dict[\u001B[38;5;124m\"\u001B[39m\u001B[38;5;124mRPC error\u001B[39m\u001B[38;5;124m\"\u001B[39m] \u001B[38;5;241m=\u001B[39m \u001B[38;5;28mstr\u001B[39m(datetime\u001B[38;5;241m.\u001B[39mdatetime\u001B[38;5;241m.\u001B[39mnow())\n\u001B[1;32m    140\u001B[0m     LOGGER\u001B[38;5;241m.\u001B[39merror(\u001B[38;5;124mf\u001B[39m\u001B[38;5;124m\"\u001B[39m\u001B[38;5;124mRPC error: [\u001B[39m\u001B[38;5;132;01m{\u001B[39;00minner_name\u001B[38;5;132;01m}\u001B[39;00m\u001B[38;5;124m], \u001B[39m\u001B[38;5;132;01m{\u001B[39;00me\u001B[38;5;132;01m}\u001B[39;00m\u001B[38;5;124m, <Time:\u001B[39m\u001B[38;5;132;01m{\u001B[39;00mrecord_dict\u001B[38;5;132;01m}\u001B[39;00m\u001B[38;5;124m>\u001B[39m\u001B[38;5;124m\"\u001B[39m)\n\u001B[0;32m--> 141\u001B[0m     \u001B[38;5;28;01mraise\u001B[39;00m e \u001B[38;5;28;01mfrom\u001B[39;00m \u001B[38;5;21;01me\u001B[39;00m\n\u001B[1;32m    142\u001B[0m \u001B[38;5;28;01mexcept\u001B[39;00m grpc\u001B[38;5;241m.\u001B[39mFutureTimeoutError \u001B[38;5;28;01mas\u001B[39;00m e:\n\u001B[1;32m    143\u001B[0m     record_dict[\u001B[38;5;124m\"\u001B[39m\u001B[38;5;124mgRPC timeout\u001B[39m\u001B[38;5;124m\"\u001B[39m] \u001B[38;5;241m=\u001B[39m \u001B[38;5;28mstr\u001B[39m(datetime\u001B[38;5;241m.\u001B[39mdatetime\u001B[38;5;241m.\u001B[39mnow())\n",
      "File \u001B[0;32m~/miniconda3/envs/Ddcase/lib/python3.9/site-packages/pymilvus/decorators.py:137\u001B[0m, in \u001B[0;36merror_handler.<locals>.wrapper.<locals>.handler\u001B[0;34m(*args, **kwargs)\u001B[0m\n\u001B[1;32m    135\u001B[0m \u001B[38;5;28;01mtry\u001B[39;00m:\n\u001B[1;32m    136\u001B[0m     record_dict[\u001B[38;5;124m\"\u001B[39m\u001B[38;5;124mRPC start\u001B[39m\u001B[38;5;124m\"\u001B[39m] \u001B[38;5;241m=\u001B[39m \u001B[38;5;28mstr\u001B[39m(datetime\u001B[38;5;241m.\u001B[39mdatetime\u001B[38;5;241m.\u001B[39mnow())\n\u001B[0;32m--> 137\u001B[0m     \u001B[38;5;28;01mreturn\u001B[39;00m \u001B[43mfunc\u001B[49m\u001B[43m(\u001B[49m\u001B[38;5;241;43m*\u001B[39;49m\u001B[43margs\u001B[49m\u001B[43m,\u001B[49m\u001B[43m \u001B[49m\u001B[38;5;241;43m*\u001B[39;49m\u001B[38;5;241;43m*\u001B[39;49m\u001B[43mkwargs\u001B[49m\u001B[43m)\u001B[49m\n\u001B[1;32m    138\u001B[0m \u001B[38;5;28;01mexcept\u001B[39;00m MilvusException \u001B[38;5;28;01mas\u001B[39;00m e:\n\u001B[1;32m    139\u001B[0m     record_dict[\u001B[38;5;124m\"\u001B[39m\u001B[38;5;124mRPC error\u001B[39m\u001B[38;5;124m\"\u001B[39m] \u001B[38;5;241m=\u001B[39m \u001B[38;5;28mstr\u001B[39m(datetime\u001B[38;5;241m.\u001B[39mdatetime\u001B[38;5;241m.\u001B[39mnow())\n",
      "File \u001B[0;32m~/miniconda3/envs/Ddcase/lib/python3.9/site-packages/pymilvus/decorators.py:176\u001B[0m, in \u001B[0;36mtracing_request.<locals>.wrapper.<locals>.handler\u001B[0;34m(self, *args, **kwargs)\u001B[0m\n\u001B[1;32m    174\u001B[0m \u001B[38;5;28;01mif\u001B[39;00m req_id:\n\u001B[1;32m    175\u001B[0m     \u001B[38;5;28mself\u001B[39m\u001B[38;5;241m.\u001B[39mset_onetime_request_id(req_id)\n\u001B[0;32m--> 176\u001B[0m \u001B[38;5;28;01mreturn\u001B[39;00m \u001B[43mfunc\u001B[49m\u001B[43m(\u001B[49m\u001B[38;5;28;43mself\u001B[39;49m\u001B[43m,\u001B[49m\u001B[43m \u001B[49m\u001B[38;5;241;43m*\u001B[39;49m\u001B[43margs\u001B[49m\u001B[43m,\u001B[49m\u001B[43m \u001B[49m\u001B[38;5;241;43m*\u001B[39;49m\u001B[38;5;241;43m*\u001B[39;49m\u001B[43mkwargs\u001B[49m\u001B[43m)\u001B[49m\n",
      "File \u001B[0;32m~/miniconda3/envs/Ddcase/lib/python3.9/site-packages/pymilvus/decorators.py:116\u001B[0m, in \u001B[0;36mretry_on_rpc_failure.<locals>.wrapper.<locals>.handler\u001B[0;34m(*args, **kwargs)\u001B[0m\n\u001B[1;32m    114\u001B[0m         back_off \u001B[38;5;241m=\u001B[39m \u001B[38;5;28mmin\u001B[39m(back_off \u001B[38;5;241m*\u001B[39m back_off_multiplier, max_back_off)\n\u001B[1;32m    115\u001B[0m     \u001B[38;5;28;01melse\u001B[39;00m:\n\u001B[0;32m--> 116\u001B[0m         \u001B[38;5;28;01mraise\u001B[39;00m e \u001B[38;5;28;01mfrom\u001B[39;00m \u001B[38;5;21;01me\u001B[39;00m\n\u001B[1;32m    117\u001B[0m \u001B[38;5;28;01mexcept\u001B[39;00m \u001B[38;5;167;01mException\u001B[39;00m \u001B[38;5;28;01mas\u001B[39;00m e:\n\u001B[1;32m    118\u001B[0m     \u001B[38;5;28;01mraise\u001B[39;00m e \u001B[38;5;28;01mfrom\u001B[39;00m \u001B[38;5;21;01me\u001B[39;00m\n",
      "File \u001B[0;32m~/miniconda3/envs/Ddcase/lib/python3.9/site-packages/pymilvus/decorators.py:86\u001B[0m, in \u001B[0;36mretry_on_rpc_failure.<locals>.wrapper.<locals>.handler\u001B[0;34m(*args, **kwargs)\u001B[0m\n\u001B[1;32m     84\u001B[0m \u001B[38;5;28;01mwhile\u001B[39;00m \u001B[38;5;28;01mTrue\u001B[39;00m:\n\u001B[1;32m     85\u001B[0m     \u001B[38;5;28;01mtry\u001B[39;00m:\n\u001B[0;32m---> 86\u001B[0m         \u001B[38;5;28;01mreturn\u001B[39;00m \u001B[43mfunc\u001B[49m\u001B[43m(\u001B[49m\u001B[38;5;241;43m*\u001B[39;49m\u001B[43margs\u001B[49m\u001B[43m,\u001B[49m\u001B[43m \u001B[49m\u001B[38;5;241;43m*\u001B[39;49m\u001B[38;5;241;43m*\u001B[39;49m\u001B[43mkwargs\u001B[49m\u001B[43m)\u001B[49m\n\u001B[1;32m     87\u001B[0m     \u001B[38;5;28;01mexcept\u001B[39;00m grpc\u001B[38;5;241m.\u001B[39mRpcError \u001B[38;5;28;01mas\u001B[39;00m e:\n\u001B[1;32m     88\u001B[0m         \u001B[38;5;66;03m# Do not retry on these codes\u001B[39;00m\n\u001B[1;32m     89\u001B[0m         \u001B[38;5;28;01mif\u001B[39;00m e\u001B[38;5;241m.\u001B[39mcode() \u001B[38;5;129;01min\u001B[39;00m IGNORE_RETRY_CODES:\n",
      "File \u001B[0;32m~/miniconda3/envs/Ddcase/lib/python3.9/site-packages/pymilvus/client/grpc_handler.py:525\u001B[0m, in \u001B[0;36mGrpcHandler.insert_rows\u001B[0;34m(self, collection_name, entities, partition_name, schema, timeout, **kwargs)\u001B[0m\n\u001B[1;32m    515\u001B[0m \u001B[38;5;129m@retry_on_rpc_failure\u001B[39m()\n\u001B[1;32m    516\u001B[0m \u001B[38;5;28;01mdef\u001B[39;00m \u001B[38;5;21minsert_rows\u001B[39m(\n\u001B[1;32m    517\u001B[0m     \u001B[38;5;28mself\u001B[39m,\n\u001B[0;32m   (...)\u001B[0m\n\u001B[1;32m    523\u001B[0m     \u001B[38;5;241m*\u001B[39m\u001B[38;5;241m*\u001B[39mkwargs,\n\u001B[1;32m    524\u001B[0m ):\n\u001B[0;32m--> 525\u001B[0m     request \u001B[38;5;241m=\u001B[39m \u001B[38;5;28;43mself\u001B[39;49m\u001B[38;5;241;43m.\u001B[39;49m\u001B[43m_prepare_row_insert_request\u001B[49m\u001B[43m(\u001B[49m\n\u001B[1;32m    526\u001B[0m \u001B[43m        \u001B[49m\u001B[43mcollection_name\u001B[49m\u001B[43m,\u001B[49m\u001B[43m \u001B[49m\u001B[43mentities\u001B[49m\u001B[43m,\u001B[49m\u001B[43m \u001B[49m\u001B[43mpartition_name\u001B[49m\u001B[43m,\u001B[49m\u001B[43m \u001B[49m\u001B[43mschema\u001B[49m\u001B[43m,\u001B[49m\u001B[43m \u001B[49m\u001B[43mtimeout\u001B[49m\u001B[43m,\u001B[49m\u001B[43m \u001B[49m\u001B[38;5;241;43m*\u001B[39;49m\u001B[38;5;241;43m*\u001B[39;49m\u001B[43mkwargs\u001B[49m\n\u001B[1;32m    527\u001B[0m \u001B[43m    \u001B[49m\u001B[43m)\u001B[49m\n\u001B[1;32m    528\u001B[0m     resp \u001B[38;5;241m=\u001B[39m \u001B[38;5;28mself\u001B[39m\u001B[38;5;241m.\u001B[39m_stub\u001B[38;5;241m.\u001B[39mInsert(request\u001B[38;5;241m=\u001B[39mrequest, timeout\u001B[38;5;241m=\u001B[39mtimeout)\n\u001B[1;32m    529\u001B[0m     check_status(resp\u001B[38;5;241m.\u001B[39mstatus)\n",
      "File \u001B[0;32m~/miniconda3/envs/Ddcase/lib/python3.9/site-packages/pymilvus/client/grpc_handler.py:551\u001B[0m, in \u001B[0;36mGrpcHandler._prepare_row_insert_request\u001B[0;34m(self, collection_name, entity_rows, partition_name, schema, timeout, **kwargs)\u001B[0m\n\u001B[1;32m    548\u001B[0m fields_info \u001B[38;5;241m=\u001B[39m schema\u001B[38;5;241m.\u001B[39mget(\u001B[38;5;124m\"\u001B[39m\u001B[38;5;124mfields\u001B[39m\u001B[38;5;124m\"\u001B[39m)\n\u001B[1;32m    549\u001B[0m enable_dynamic \u001B[38;5;241m=\u001B[39m schema\u001B[38;5;241m.\u001B[39mget(\u001B[38;5;124m\"\u001B[39m\u001B[38;5;124menable_dynamic_field\u001B[39m\u001B[38;5;124m\"\u001B[39m, \u001B[38;5;28;01mFalse\u001B[39;00m)\n\u001B[0;32m--> 551\u001B[0m \u001B[38;5;28;01mreturn\u001B[39;00m \u001B[43mPrepare\u001B[49m\u001B[38;5;241;43m.\u001B[39;49m\u001B[43mrow_insert_param\u001B[49m\u001B[43m(\u001B[49m\n\u001B[1;32m    552\u001B[0m \u001B[43m    \u001B[49m\u001B[43mcollection_name\u001B[49m\u001B[43m,\u001B[49m\n\u001B[1;32m    553\u001B[0m \u001B[43m    \u001B[49m\u001B[43mentity_rows\u001B[49m\u001B[43m,\u001B[49m\n\u001B[1;32m    554\u001B[0m \u001B[43m    \u001B[49m\u001B[43mpartition_name\u001B[49m\u001B[43m,\u001B[49m\n\u001B[1;32m    555\u001B[0m \u001B[43m    \u001B[49m\u001B[43mfields_info\u001B[49m\u001B[43m,\u001B[49m\n\u001B[1;32m    556\u001B[0m \u001B[43m    \u001B[49m\u001B[43menable_dynamic\u001B[49m\u001B[38;5;241;43m=\u001B[39;49m\u001B[43menable_dynamic\u001B[49m\u001B[43m,\u001B[49m\n\u001B[1;32m    557\u001B[0m \u001B[43m\u001B[49m\u001B[43m)\u001B[49m\n",
      "File \u001B[0;32m~/miniconda3/envs/Ddcase/lib/python3.9/site-packages/pymilvus/client/prepare.py:623\u001B[0m, in \u001B[0;36mPrepare.row_insert_param\u001B[0;34m(cls, collection_name, entities, partition_name, fields_info, enable_dynamic)\u001B[0m\n\u001B[1;32m    616\u001B[0m p_name \u001B[38;5;241m=\u001B[39m partition_name \u001B[38;5;28;01mif\u001B[39;00m \u001B[38;5;28misinstance\u001B[39m(partition_name, \u001B[38;5;28mstr\u001B[39m) \u001B[38;5;28;01melse\u001B[39;00m \u001B[38;5;124m\"\u001B[39m\u001B[38;5;124m\"\u001B[39m\n\u001B[1;32m    617\u001B[0m request \u001B[38;5;241m=\u001B[39m milvus_types\u001B[38;5;241m.\u001B[39mInsertRequest(\n\u001B[1;32m    618\u001B[0m     collection_name\u001B[38;5;241m=\u001B[39mcollection_name,\n\u001B[1;32m    619\u001B[0m     partition_name\u001B[38;5;241m=\u001B[39mp_name,\n\u001B[1;32m    620\u001B[0m     num_rows\u001B[38;5;241m=\u001B[39m\u001B[38;5;28mlen\u001B[39m(entities),\n\u001B[1;32m    621\u001B[0m )\n\u001B[0;32m--> 623\u001B[0m \u001B[38;5;28;01mreturn\u001B[39;00m \u001B[38;5;28;43mcls\u001B[39;49m\u001B[38;5;241;43m.\u001B[39;49m\u001B[43m_parse_row_request\u001B[49m\u001B[43m(\u001B[49m\u001B[43mrequest\u001B[49m\u001B[43m,\u001B[49m\u001B[43m \u001B[49m\u001B[43mfields_info\u001B[49m\u001B[43m,\u001B[49m\u001B[43m \u001B[49m\u001B[43menable_dynamic\u001B[49m\u001B[43m,\u001B[49m\u001B[43m \u001B[49m\u001B[43mentities\u001B[49m\u001B[43m)\u001B[49m\n",
      "File \u001B[0;32m~/miniconda3/envs/Ddcase/lib/python3.9/site-packages/pymilvus/client/prepare.py:473\u001B[0m, in \u001B[0;36mPrepare._parse_row_request\u001B[0;34m(request, fields_info, enable_dynamic, entities)\u001B[0m\n\u001B[1;32m    469\u001B[0m         \u001B[38;5;28;01mif\u001B[39;00m field_info\u001B[38;5;241m.\u001B[39mget(\u001B[38;5;124m\"\u001B[39m\u001B[38;5;124mnullable\u001B[39m\u001B[38;5;124m\"\u001B[39m, \u001B[38;5;28;01mFalse\u001B[39;00m) \u001B[38;5;129;01mor\u001B[39;00m field_info\u001B[38;5;241m.\u001B[39mget(\n\u001B[1;32m    470\u001B[0m             \u001B[38;5;124m\"\u001B[39m\u001B[38;5;124mdefault_value\u001B[39m\u001B[38;5;124m\"\u001B[39m, \u001B[38;5;28;01mNone\u001B[39;00m\n\u001B[1;32m    471\u001B[0m         ):\n\u001B[1;32m    472\u001B[0m             field_data\u001B[38;5;241m.\u001B[39mvalid_data\u001B[38;5;241m.\u001B[39mappend(v \u001B[38;5;129;01mis\u001B[39;00m \u001B[38;5;129;01mnot\u001B[39;00m \u001B[38;5;28;01mNone\u001B[39;00m)\n\u001B[0;32m--> 473\u001B[0m         \u001B[43mentity_helper\u001B[49m\u001B[38;5;241;43m.\u001B[39;49m\u001B[43mpack_field_value_to_field_data\u001B[49m\u001B[43m(\u001B[49m\u001B[43mv\u001B[49m\u001B[43m,\u001B[49m\u001B[43m \u001B[49m\u001B[43mfield_data\u001B[49m\u001B[43m,\u001B[49m\u001B[43m \u001B[49m\u001B[43mfield_info\u001B[49m\u001B[43m)\u001B[49m\n\u001B[1;32m    474\u001B[0m \u001B[38;5;28;01mfor\u001B[39;00m field \u001B[38;5;129;01min\u001B[39;00m input_fields_info:\n\u001B[1;32m    475\u001B[0m     key \u001B[38;5;241m=\u001B[39m field[\u001B[38;5;124m\"\u001B[39m\u001B[38;5;124mname\u001B[39m\u001B[38;5;124m\"\u001B[39m]\n",
      "File \u001B[0;32m~/miniconda3/envs/Ddcase/lib/python3.9/site-packages/pymilvus/client/entity_helper.py:310\u001B[0m, in \u001B[0;36mpack_field_value_to_field_data\u001B[0;34m(field_value, field_data, field_info)\u001B[0m\n\u001B[1;32m    308\u001B[0m \u001B[38;5;28;01mif\u001B[39;00m \u001B[38;5;28misinstance\u001B[39m(field_value, np\u001B[38;5;241m.\u001B[39mndarray):\n\u001B[1;32m    309\u001B[0m     \u001B[38;5;28;01mif\u001B[39;00m field_value\u001B[38;5;241m.\u001B[39mdtype \u001B[38;5;129;01mnot\u001B[39;00m \u001B[38;5;129;01min\u001B[39;00m (\u001B[38;5;124m\"\u001B[39m\u001B[38;5;124mfloat32\u001B[39m\u001B[38;5;124m\"\u001B[39m, \u001B[38;5;124m\"\u001B[39m\u001B[38;5;124mfloat64\u001B[39m\u001B[38;5;124m\"\u001B[39m):\n\u001B[0;32m--> 310\u001B[0m         \u001B[38;5;28;01mraise\u001B[39;00m ParamError(\n\u001B[1;32m    311\u001B[0m             message\u001B[38;5;241m=\u001B[39m\u001B[38;5;124m\"\u001B[39m\u001B[38;5;124minvalid input for float32 vector. Expected an np.ndarray with dtype=float32\u001B[39m\u001B[38;5;124m\"\u001B[39m\n\u001B[1;32m    312\u001B[0m         )\n\u001B[1;32m    313\u001B[0m     f_value \u001B[38;5;241m=\u001B[39m field_value\u001B[38;5;241m.\u001B[39mtolist()\n\u001B[1;32m    315\u001B[0m field_data\u001B[38;5;241m.\u001B[39mvectors\u001B[38;5;241m.\u001B[39mdim \u001B[38;5;241m=\u001B[39m \u001B[38;5;28mlen\u001B[39m(f_value)\n",
      "\u001B[0;31mParamError\u001B[0m: <ParamError: (code=1, message=invalid input for float32 vector. Expected an np.ndarray with dtype=float32)>"
     ]
    }
   ],
   "source": [
    "database.add_batch(data_list,'pdf_chunks')"
   ],
   "metadata": {
    "collapsed": false,
    "ExecuteTime": {
     "end_time": "2025-03-05T14:13:48.461001500Z",
     "start_time": "2025-03-05T14:13:06.562337100Z"
    }
   },
   "id": "cdc7324c21eba7d",
   "execution_count": 7
  },
  {
   "cell_type": "code",
   "outputs": [
    {
     "data": {
      "text/plain": "8"
     },
     "execution_count": 33,
     "metadata": {},
     "output_type": "execute_result"
    }
   ],
   "source": [
    "\"我是你爹，你是我儿子\".find(\"儿子\")"
   ],
   "metadata": {
    "collapsed": false,
    "ExecuteTime": {
     "end_time": "2025-03-07T09:19:46.538855600Z",
     "start_time": "2025-03-07T09:19:46.511015600Z"
    }
   },
   "id": "f75bf7c4cbe71795",
   "execution_count": 33
  },
  {
   "cell_type": "code",
   "outputs": [
    {
     "name": "stdout",
     "output_type": "stream",
     "text": [
      "1\n",
      "{'subjects': ['cats', 'dogs'], 'jokes': []}\n",
      "2\n",
      "{'subjects': ['cats', 'dogs'], 'jokes': []}\n",
      "3\n",
      "{'subject': 'cats'}\n",
      "3\n",
      "{'subject': 'dogs'}\n",
      "4\n",
      "{'subjects': ['cats', 'dogs'], 'jokes': ['Joke about cats', 'Joke about dogs']}\n",
      "{'subjects': ['cats', 'dogs'], 'jokes': ['Joke about cats', 'Joke about dogs', 'Joke about cats', 'Joke about dogs']}\n"
     ]
    }
   ],
   "source": [
    "from typing import Annotated, TypedDict\n",
    "import operator\n",
    "from langgraph.types import Send\n",
    "from langgraph.graph import END, START, StateGraph\n",
    "\n",
    "# 定义状态\n",
    "class OverallState(TypedDict):\n",
    "    subjects: list[str]\n",
    "    jokes: Annotated[list[str], operator.add]  # 记录所有的笑话\n",
    "    error: str  # 存储错误信息（如果没有相关笑话）\n",
    "\n",
    "# 发送多个请求的函数\n",
    "def front(state: OverallState):\n",
    "    print('1')\n",
    "    print(state)\n",
    "    return state\n",
    "\n",
    "def continue_to_jokes(state: OverallState):\n",
    "    print(\"2\")\n",
    "    print(state)\n",
    "    return [Send(\"generate_joke\", {\"subject\": s}) for s in state['subjects']]\n",
    "\n",
    "# 生成笑话的函数\n",
    "def generate_joke(state: OverallState):\n",
    "    print(\"3\")\n",
    "    print(state)\n",
    "    return {\"jokes\": [f\"Joke about {state['subject']}\"]}  # 这里返回的是单个字符串的列表\n",
    "\n",
    "# 判断所有请求是否返回了有意义的结果\n",
    "def check_results(state: OverallState):\n",
    "    print(\"4\")\n",
    "    print(state)\n",
    "    if \"jokes\" in state and state[\"jokes\"]:  \n",
    "        return state  # 保持 state 不变，流程正常结束\n",
    "    return {\"error\": \"No relevant jokes found.\"}  # 返回完整的 state 结构\n",
    "\n",
    "# 构建 LangGraph\n",
    "builder = StateGraph(OverallState)\n",
    "# 添加节点\n",
    "builder.add_node(\"front\", front)\n",
    "builder.add_node(\"generate_joke\", generate_joke)\n",
    "builder.add_node(\"check_results\", check_results)  # **添加 check_results 节点**\n",
    "builder.add_conditional_edges('front', continue_to_jokes)  # 发送多个请求\n",
    "builder.add_edge(START, 'front')  # 发送多个请求\n",
    "builder.add_edge(\"generate_joke\", \"check_results\")  # 连接 generate_joke -> check_results\n",
    "builder.add_edge(\"check_results\", END)  # 结束流程\n",
    "\n",
    "# 编译并执行\n",
    "graph = builder.compile()\n",
    "\n",
    "# 运行示例\n",
    "result = graph.invoke({\"subjects\": [\"cats\", \"dogs\"]})\n",
    "print(result)"
   ],
   "metadata": {
    "collapsed": false,
    "ExecuteTime": {
     "end_time": "2025-03-07T07:50:34.532188100Z",
     "start_time": "2025-03-07T07:50:34.507944400Z"
    }
   },
   "id": "d3f3dee043210a39",
   "execution_count": 22
  },
  {
   "cell_type": "code",
   "outputs": [
    {
     "name": "stdout",
     "output_type": "stream",
     "text": [
      "{'subjects': ['cats', 'dogs'], 'jokes': ['Joke about cats', 'Joke about dogs']}\n"
     ]
    },
    {
     "data": {
      "text/plain": "{'subjects': ['cats', 'dogs'],\n 'jokes': ['Joke about cats', 'Joke about dogs'],\n 'error': 3}"
     },
     "execution_count": 31,
     "metadata": {},
     "output_type": "execute_result"
    }
   ],
   "source": [
    "from typing import Annotated \n",
    "import operator \n",
    "class OverallState(TypedDict):    \n",
    "    subjects: list[str]     \n",
    "    jokes: Annotated[list[str], operator.add]\n",
    "    error: int\n",
    "from langgraph.types import Send\n",
    "from langgraph.graph import END, START\n",
    "\n",
    "def front(state: OverallState):\n",
    "    return state\n",
    "\n",
    "def continue_to_jokes(state: OverallState):     \n",
    "    return [Send(\"generate_joke\", {\"subject\": s}) for s in state['subjects']]\n",
    "\n",
    "def generate_joke(state: OverallState):\n",
    "    return {\"jokes\": [f\"Joke about {state['subject']}\"]}  # 这里返回的是单个字符串的列表\n",
    "\n",
    "def check_results(state: OverallState):\n",
    "    print(state)\n",
    "    if \"jokes\" in state and state[\"jokes\"]:  \n",
    "        return {\"error\":3}  # 保持 state 不变，流程正常结束\n",
    "    return {\"error\": \"No relevant jokes found.\"}  # 返回完整的 state 结构\n",
    "\n",
    "from langgraph.graph import StateGraph\n",
    "builder = StateGraph(OverallState)\n",
    "builder.add_node(\"front\", front)\n",
    "builder.add_node(\"generate_joke\", generate_joke)\n",
    "builder.add_node(\"check\", check_results)\n",
    "builder.add_conditional_edges('front', continue_to_jokes)\n",
    "builder.add_edge(START,'front')\n",
    "builder.add_edge(\"generate_joke\", 'check')\n",
    "builder.add_edge('check', END)\n",
    "graph = builder.compile()\n",
    "# Invoking with two subjects results in a generated joke for each\n",
    "graph.invoke({\"subjects\": [\"cats\", \"dogs\"]})\n",
    "\n"
   ],
   "metadata": {
    "collapsed": false,
    "ExecuteTime": {
     "end_time": "2025-03-07T08:16:55.244366Z",
     "start_time": "2025-03-07T08:16:55.228563200Z"
    }
   },
   "id": "ddd209b3ed657d4",
   "execution_count": 31
  },
  {
   "cell_type": "code",
   "outputs": [
    {
     "name": "stderr",
     "output_type": "stream",
     "text": [
      "/root/miniconda3/envs/Ddcase/lib/python3.9/site-packages/langsmith/client.py:253: LangSmithMissingAPIKeyWarning: API key must be provided when using hosted LangSmith API\n",
      "  warnings.warn(\n"
     ]
    }
   ],
   "source": [
    "from langchain_community.tools.tavily_search import TavilySearchResults\n",
    "from langchain_openai import ChatOpenAI\n",
    "from langchain import hub\n",
    "import asyncio\n",
    "from langgraph.prebuilt import create_react_agent\n",
    "\n",
    "#创建TavilySearchResults工具\n",
    "# tools = [TavilySearchResults(max_results=1)]\n",
    "\n",
    "#从Langchain Hub加载模版\n",
    "prompt = hub.pull(\"wfh/react-agent-executor\")"
   ],
   "metadata": {
    "collapsed": false,
    "ExecuteTime": {
     "end_time": "2025-03-04T16:32:42.526509900Z",
     "start_time": "2025-03-04T16:32:41.888078100Z"
    }
   },
   "id": "c3898a9c4838c354",
   "execution_count": 8
  },
  {
   "cell_type": "code",
   "outputs": [
    {
     "name": "stdout",
     "output_type": "stream",
     "text": [
      "================================\u001B[1m System Message \u001B[0m================================\n",
      "\n",
      "You are a helpful assistant.\n",
      "\n",
      "=============================\u001B[1m Messages Placeholder \u001B[0m=============================\n",
      "\n",
      "\u001B[33;1m\u001B[1;3m{{messages}}\u001B[0m\n"
     ]
    }
   ],
   "source": [
    "prompt.pretty_print()"
   ],
   "metadata": {
    "collapsed": false,
    "ExecuteTime": {
     "end_time": "2025-03-04T16:37:25.160388700Z",
     "start_time": "2025-03-04T16:37:25.140277100Z"
    }
   },
   "id": "9b248009539cc06",
   "execution_count": 12
  },
  {
   "cell_type": "code",
   "outputs": [
    {
     "data": {
      "text/plain": "ChatPromptValue(messages=[SystemMessage(content='You are a helpful assistant.', additional_kwargs={}, response_metadata={}), HumanMessage(content='heihei', additional_kwargs={}, response_metadata={})])"
     },
     "execution_count": 18,
     "metadata": {},
     "output_type": "execute_result"
    }
   ],
   "source": [
    "prompt.invoke(\n",
    "    [{\"role\":\"user\",\"content\":'heihei'}]\n",
    ")"
   ],
   "metadata": {
    "collapsed": false,
    "ExecuteTime": {
     "end_time": "2025-03-04T16:50:49.182935200Z",
     "start_time": "2025-03-04T16:50:49.092755600Z"
    }
   },
   "id": "34e6055d9fc525f",
   "execution_count": 18
  },
  {
   "cell_type": "code",
   "outputs": [
    {
     "data": {
      "text/plain": "'{1}'"
     },
     "execution_count": 19,
     "metadata": {},
     "output_type": "execute_result"
    }
   ],
   "source": [
    "\"\"\"{1}\"\"\""
   ],
   "metadata": {
    "collapsed": false,
    "ExecuteTime": {
     "end_time": "2025-03-04T16:53:41.329624Z",
     "start_time": "2025-03-04T16:53:41.319122Z"
    }
   },
   "id": "7aa16fda30489a38",
   "execution_count": 19
  },
  {
   "cell_type": "code",
   "outputs": [],
   "source": [],
   "metadata": {
    "collapsed": false
   },
   "id": "7ab7e0b1472aa2bd"
  }
 ],
 "metadata": {
  "kernelspec": {
   "display_name": "Python 3",
   "language": "python",
   "name": "python3"
  },
  "language_info": {
   "codemirror_mode": {
    "name": "ipython",
    "version": 2
   },
   "file_extension": ".py",
   "mimetype": "text/x-python",
   "name": "python",
   "nbconvert_exporter": "python",
   "pygments_lexer": "ipython2",
   "version": "2.7.6"
  }
 },
 "nbformat": 4,
 "nbformat_minor": 5
}
